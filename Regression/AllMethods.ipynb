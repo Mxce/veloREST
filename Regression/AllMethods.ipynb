{
 "cells": [
  {
   "cell_type": "code",
   "execution_count": 1,
   "metadata": {},
   "outputs": [],
   "source": [
    "import sklearn.neighbors as neighbors\n",
    "import sklearn.model_selection\n",
    "import time\n",
    "import csv\n",
    "import pandas as pd\n",
    "import numpy as np\n",
    "import matplotlib.pyplot as plt\n",
    "import sklearn.model_selection\n",
    "from sklearn.metrics import confusion_matrix, r2_score\n",
    "from sklearn.datasets import fetch_openml, make_regression #Pour ElasticNet\n",
    "from sklearn.linear_model import SGDRegressor, SGDClassifier, Lasso, ElasticNet, Ridge\n",
    "from sklearn.svm import SVR"
   ]
  },
  {
   "cell_type": "code",
   "execution_count": 2,
   "metadata": {},
   "outputs": [],
   "source": [
    "train = pd.read_csv('D:/Documents/cours/INSA/5A/Projet_Intégrateur/data/519dataframe.csv')\n",
    "test = pd.read_csv('D:/Documents/cours/INSA/5A/Projet_Intégrateur/data/519dataframe.csv')\n",
    "#print(train)\n",
    "# idstation | annee | num_semaine | jour_semaine | heure | nb_arrives | nb_departs | entier_weather"
   ]
  },
  {
   "cell_type": "code",
   "execution_count": 3,
   "metadata": {},
   "outputs": [],
   "source": [
    "X = [] # Contient tous les vecteurs [annee,semaine,jour,heure,weather]\n",
    "Y = [] # Contient toutes les affluences (representees par un entier, somme des departs et arrivees)\n",
    "with open('D:/Documents/cours/INSA/5A/Projet_Intégrateur/data/519dataframe.csv', 'r') as f:\n",
    "    reader = csv.reader(f)\n",
    "    next(reader,None)\n",
    "    for line in reader: \n",
    "        temp=[]\n",
    "        a=line[0].replace(\"[\",\"\").replace(\"]\",\"\").replace(\".0\",\"\").split(\",\")\n",
    "        for elem in a:\n",
    "            temp.append(int(elem))\n",
    "        X.append(temp)\n",
    "        Y.append(int(line[1]))"
   ]
  },
  {
   "cell_type": "code",
   "execution_count": 4,
   "metadata": {},
   "outputs": [
    {
     "name": "stdout",
     "output_type": "stream",
     "text": [
      "38640\n",
      "38640\n",
      "[2013, 21, 6, 3, 1]\n",
      "0\n"
     ]
    }
   ],
   "source": [
    "print(str(len(X))) # On verifie que X et Y font bien la meme longueur (=nbr lignes du csv)\n",
    "print(str(len(Y)))\n",
    "print(X[3])        # On verifie que X et Y ont bien la forme que l'on veut (X vecteur et Y entier)\n",
    "print(Y[3])"
   ]
  },
  {
   "cell_type": "code",
   "execution_count": 5,
   "metadata": {},
   "outputs": [],
   "source": [
    "trainsize=0.7\n",
    "X_train, X_test, Y_train, Y_test = sklearn.model_selection.train_test_split(X, Y, train_size=trainsize)"
   ]
  },
  {
   "cell_type": "code",
   "execution_count": 6,
   "metadata": {},
   "outputs": [
    {
     "name": "stdout",
     "output_type": "stream",
     "text": [
      "SGD\n",
      "sgd predict = [1.17933172e+14 2.91417204e+14 1.97627292e+14 ... 1.46048155e+14\n",
      " 1.77963083e+14 1.64351657e+14] | score = -2.365588096514649e+25 | executime = 0.2635612487792969\n"
     ]
    }
   ],
   "source": [
    "#SGDRegressor\n",
    "start=time.time()\n",
    "sgd=SGDRegressor()\n",
    "sgd.fit(X_train,Y_train)\n",
    "stop=time.time()\n",
    "sgdtime=stop-start\n",
    "sgdy_pred=sgd.predict(X_test)\n",
    "print(\"SGD\\nsgd predict = \"+str(sgdy_pred)+\" | score = \"+str(sgd.score(X_test,Y_test))+\" | executime = \"+str(sgdtime))\n"
   ]
  },
  {
   "cell_type": "code",
   "execution_count": 7,
   "metadata": {},
   "outputs": [
    {
     "name": "stdout",
     "output_type": "stream",
     "text": [
      "SGD\n",
      "sgd predict = [2.20510663e+14 2.45289800e+14 2.47495787e+14 ... 2.54503014e+14\n",
      " 1.95035484e+14 2.15867931e+14]\n",
      "score = -2.550956224995964e+25\n",
      "executime = 0.3363676071166992\n"
     ]
    }
   ],
   "source": [
    "#SGDRegressor\n",
    "start=time.time()\n",
    "sgd=SGDRegressor()\n",
    "sgd.fit(X_train,Y_train)\n",
    "stop=time.time()\n",
    "sgdtime=stop-start\n",
    "sgdy_pred=sgd.predict(X_test)\n",
    "print(\"SGD\\nsgd predict = \"+str(sgdy_pred)+\"\\nscore = \"+str(sgd.score(X_test,Y_test))+\"\\nexecutime = \"+str(sgdtime))\n"
   ]
  },
  {
   "cell_type": "code",
   "execution_count": 8,
   "metadata": {},
   "outputs": [
    {
     "name": "stdout",
     "output_type": "stream",
     "text": [
      "ElasticNet\n",
      "ElasticNet predict = [24.36895006  0.67704607 18.90194018 ... 13.09383949 46.63432369\n",
      " 36.80399707]\n",
      "score = 0.07704545252627382\n",
      "executime = 1.7921395301818848\n"
     ]
    }
   ],
   "source": [
    "#ElasticNet\n",
    "start=time.time()\n",
    "elasticnet=ElasticNet(random_state=0)\n",
    "elasticnet.fit(X_train,Y_train)\n",
    "stop=time.time()\n",
    "elasticnettime=stop-start\n",
    "elasticnety_pred=elasticnet.predict(X_test)\n",
    "print(\"ElasticNet\\nElasticNet predict = \"+str(elasticnety_pred)+\"\\nscore = \"+str(elasticnet.score(X_test,Y_test))+\"\\nexecutime = \"+str(elasticnettime))\n"
   ]
  },
  {
   "cell_type": "code",
   "execution_count": 9,
   "metadata": {},
   "outputs": [
    {
     "name": "stdout",
     "output_type": "stream",
     "text": [
      "Lasso\n",
      "Lasso predict = [22.67624634 -1.28879978 20.65517973 ... 12.08117206 49.42605541\n",
      " 40.00374157]\n",
      "score = 0.07995931953769542\n",
      "executime = 0.10680580139160156\n"
     ]
    }
   ],
   "source": [
    "#Lasso\n",
    "start=time.time()\n",
    "lasso=Lasso(alpha=0.1)\n",
    "lasso.fit(X_train,Y_train)\n",
    "stop=time.time()\n",
    "lassotime=stop-start\n",
    "lassoy_pred=lasso.predict(X_test)\n",
    "print(\"Lasso\\nLasso predict = \"+str(lassoy_pred)+\"\\nscore = \"+str(lasso.score(X_test,Y_test))+\"\\nexecutime = \"+str(lassotime))\n"
   ]
  },
  {
   "cell_type": "code",
   "execution_count": 10,
   "metadata": {},
   "outputs": [
    {
     "name": "stdout",
     "output_type": "stream",
     "text": [
      "RidgeRegression\n",
      "Ridge predict = [22.67768225 -1.31880473 20.73150734 ... 12.02617017 49.46178161\n",
      " 40.15450824]\n",
      "score = 0.07997150936504205\n",
      "executime = 0.44861483573913574\n"
     ]
    }
   ],
   "source": [
    "#RidgeRegression\n",
    "start=time.time()\n",
    "ridge=Ridge()\n",
    "ridge.fit(X_train,Y_train)\n",
    "stop=time.time()\n",
    "ridgetime=stop-start\n",
    "ridgey_pred=ridge.predict(X_test)\n",
    "print(\"RidgeRegression\\nRidge predict = \"+str(ridgey_pred)+\"\\nscore = \"+str(ridge.score(X_test,Y_test))+\"\\nexecutime = \"+str(ridgetime))\n"
   ]
  },
  {
   "cell_type": "code",
   "execution_count": 13,
   "metadata": {},
   "outputs": [
    {
     "name": "stdout",
     "output_type": "stream",
     "text": [
      "SVR(kernel='linear')\n",
      "SVR(kernel='linear') predict = [10.84184099 -2.18732604  5.44484795 ...  1.98607702 22.46760077\n",
      " 16.88433353]\n",
      "score = -0.051280972742989483\n",
      "executime = 162.3075840473175\n"
     ]
    }
   ],
   "source": [
    "#SVR(kernel='linear')\n",
    "start=time.time()\n",
    "svr1=SVR(kernel='linear')\n",
    "svr1.fit(X_train,Y_train)\n",
    "stop=time.time()\n",
    "svr1time=stop-start\n",
    "svr1y_pred=svr1.predict(X_test)\n",
    "print(\"SVR(kernel=\\'linear\\')\\nSVR(kernel=\\'linear\\') predict = \"+str(svr1y_pred)+\"\\nscore = \"+str(svr1.score(X_test,Y_test))+\"\\nexecutime = \"+str(svr1time))\n"
   ]
  },
  {
   "cell_type": "code",
   "execution_count": 12,
   "metadata": {},
   "outputs": [
    {
     "name": "stderr",
     "output_type": "stream",
     "text": [
      "D:\\Anaconda3\\lib\\site-packages\\sklearn\\svm\\base.py:193: FutureWarning: The default value of gamma will change from 'auto' to 'scale' in version 0.22 to account better for unscaled features. Set gamma explicitly to 'auto' or 'scale' to avoid this warning.\n",
      "  \"avoid this warning.\", FutureWarning)\n"
     ]
    },
    {
     "name": "stdout",
     "output_type": "stream",
     "text": [
      "SVR(kernel='rbf')\n",
      "SVR(kernel='rbf') predict = [10.29537489  1.6333714   0.83482624 ...  3.71655024 17.92007268\n",
      " 28.43162358]\n",
      "score = 0.36327529686546234\n",
      "executime = 69.2164626121521\n"
     ]
    }
   ],
   "source": [
    "#SVR(kernel='rbf')\n",
    "start=time.time()\n",
    "svr2=SVR(kernel='rbf')\n",
    "svr2.fit(X_train,Y_train)\n",
    "stop=time.time()\n",
    "svr2time=stop-start\n",
    "svr2y_pred=svr2.predict(X_test)\n",
    "print(\"SVR(kernel=\\'rbf\\')\\nSVR(kernel=\\'rbf\\') predict = \"+str(svr2y_pred)+\"\\nscore = \"+str(svr2.score(X_test,Y_test))+\"\\nexecutime = \"+str(svr2time))"
   ]
  },
  {
   "cell_type": "code",
   "execution_count": null,
   "metadata": {},
   "outputs": [],
   "source": []
  },
  {
   "cell_type": "code",
   "execution_count": null,
   "metadata": {},
   "outputs": [],
   "source": []
  },
  {
   "cell_type": "code",
   "execution_count": null,
   "metadata": {},
   "outputs": [],
   "source": []
  }
 ],
 "metadata": {
  "kernelspec": {
   "display_name": "Python 3",
   "language": "python",
   "name": "python3"
  },
  "language_info": {
   "codemirror_mode": {
    "name": "ipython",
    "version": 3
   },
   "file_extension": ".py",
   "mimetype": "text/x-python",
   "name": "python",
   "nbconvert_exporter": "python",
   "pygments_lexer": "ipython3",
   "version": "3.7.4"
  }
 },
 "nbformat": 4,
 "nbformat_minor": 2
}

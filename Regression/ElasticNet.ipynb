{
 "cells": [
  {
   "cell_type": "code",
   "execution_count": 1,
   "metadata": {},
   "outputs": [],
   "source": [
    "import sklearn.neighbors as neighbors\n",
    "import sklearn.model_selection\n",
    "import time\n",
    "import csv\n",
    "import pandas as pd\n",
    "import numpy as np\n",
    "import matplotlib.pyplot as plt\n",
    "import sklearn.model_selection\n",
    "from sklearn.metrics import confusion_matrix, r2_score\n",
    "from sklearn.datasets import fetch_openml, make_regression #Pour ElasticNet\n",
    "from sklearn.linear_model import SGDRegressor, SGDClassifier, Lasso, ElasticNet, Ridge"
   ]
  },
  {
   "cell_type": "code",
   "execution_count": 2,
   "metadata": {},
   "outputs": [],
   "source": [
    "train = pd.read_csv('D:/Documents/cours/INSA/5A/Projet_Intégrateur/data/519dataframe.csv')\n",
    "test = pd.read_csv('D:/Documents/cours/INSA/5A/Projet_Intégrateur/data/519dataframe.csv')\n",
    "#print(train)\n",
    "# idstation | annee | num_semaine | jour_semaine | heure | nb_arrives | nb_departs | entier_weather"
   ]
  },
  {
   "cell_type": "code",
   "execution_count": 3,
   "metadata": {},
   "outputs": [],
   "source": [
    "X = [] # Contient tous les vecteurs [annee,semaine,jour,heure,weather]\n",
    "Y = [] # Contient toutes les affluences (representees par un entier, somme des departs et arrivees)\n",
    "with open('D:/Documents/cours/INSA/5A/Projet_Intégrateur/data/519dataframe.csv', 'r') as f:\n",
    "    reader = csv.reader(f)\n",
    "    next(reader,None)\n",
    "    for line in reader: \n",
    "        temp=[]\n",
    "        a=line[0].replace(\"[\",\"\").replace(\"]\",\"\").replace(\".0\",\"\").split(\",\")\n",
    "        for elem in a:\n",
    "            temp.append(int(elem))\n",
    "        X.append(temp)\n",
    "        Y.append(int(line[1]))"
   ]
  },
  {
   "cell_type": "code",
   "execution_count": 4,
   "metadata": {},
   "outputs": [
    {
     "name": "stdout",
     "output_type": "stream",
     "text": [
      "38640\n",
      "38640\n",
      "[2013, 21, 6, 3, 1]\n",
      "0\n"
     ]
    }
   ],
   "source": [
    "print(str(len(X))) # On verifie que X et Y font bien la meme longueur (=nbr lignes du csv)\n",
    "print(str(len(Y)))\n",
    "print(X[3])        # On verifie que X et Y ont bien la forme que l'on veut (X vecteur et Y entier)\n",
    "print(Y[3])"
   ]
  },
  {
   "cell_type": "code",
   "execution_count": 5,
   "metadata": {},
   "outputs": [],
   "source": [
    "trainsize=0.7\n",
    "X_train, X_test, Y_train, Y_test = sklearn.model_selection.train_test_split(X, Y, train_size=trainsize)"
   ]
  },
  {
   "cell_type": "code",
   "execution_count": 6,
   "metadata": {},
   "outputs": [
    {
     "name": "stdout",
     "output_type": "stream",
     "text": [
      "27048\n",
      "27048\n",
      "11592\n",
      "11592\n"
     ]
    }
   ],
   "source": [
    "print(str(len(X_train)))   # On verifie que xtrain et ytrain ont le meme nombre d'elements\n",
    "print(str(len(Y_train)))\n",
    "print(str(len(X_test)))    # On verifie que xtest et ytest ont le meme nombre d'elements\n",
    "print(str(len(Y_test)))"
   ]
  },
  {
   "cell_type": "code",
   "execution_count": 13,
   "metadata": {},
   "outputs": [
    {
     "data": {
      "text/plain": [
       "ElasticNet(alpha=1.0, copy_X=True, fit_intercept=True, l1_ratio=0.5,\n",
       "           max_iter=1000, normalize=False, positive=False, precompute=False,\n",
       "           random_state=0, selection='cyclic', tol=0.0001, warm_start=False)"
      ]
     },
     "execution_count": 13,
     "metadata": {},
     "output_type": "execute_result"
    }
   ],
   "source": [
    "clf=ElasticNet(random_state=0)\n",
    "clf.fit(X_train,Y_train)"
   ]
  },
  {
   "cell_type": "code",
   "execution_count": 14,
   "metadata": {},
   "outputs": [
    {
     "data": {
      "text/plain": [
       "16"
      ]
     },
     "execution_count": 14,
     "metadata": {},
     "output_type": "execute_result"
    }
   ],
   "source": [
    "int(clf.predict([[2016, 21, 6, 2, 1]]))"
   ]
  },
  {
   "cell_type": "code",
   "execution_count": 15,
   "metadata": {},
   "outputs": [],
   "source": [
    "y_pred=clf.predict(X_test)"
   ]
  },
  {
   "cell_type": "code",
   "execution_count": 16,
   "metadata": {},
   "outputs": [
    {
     "name": "stdout",
     "output_type": "stream",
     "text": [
      "[2017, 43, 5, 12, 1]\n",
      "52\n",
      "41\n"
     ]
    }
   ],
   "source": [
    "# On peut faire une prediction ponctuelle et la comparer avec le resultat reel du dataset\n",
    "print(X_test[0])  # Premier element de test\n",
    "print(Y_test[0])  # Valeur du y associe (qu'on espere retrouver avec notre modele)\n",
    "print(str(int(clf.predict([X_test[0]])))) # valeur trouvee par le modele"
   ]
  },
  {
   "cell_type": "code",
   "execution_count": 17,
   "metadata": {},
   "outputs": [
    {
     "name": "stdout",
     "output_type": "stream",
     "text": [
      "0.08041633139346649\n"
     ]
    }
   ],
   "source": [
    "# On peut predire sur toutes les valeurs de test d'un coup et calculer le score du modele :\n",
    "# Cela revient a faire la cellule d'avant mais sur l'ensemble des listes xtest et ytest\n",
    "print(clf.score(X_test, Y_test))"
   ]
  },
  {
   "cell_type": "code",
   "execution_count": 18,
   "metadata": {},
   "outputs": [
    {
     "name": "stdout",
     "output_type": "stream",
     "text": [
      "0.08041633139346649\n"
     ]
    }
   ],
   "source": [
    "# \"score\" n'est pas forcément la meilleure façon d'evaluer notre modele, on peut aussi en prendre d'autres:\n",
    "# voir https://scikit-learn.org/stable/modules/model_evaluation.html\n",
    "# par exemple r2 score :\n",
    "y_pred=[] # liste des valeurs predites par le modele\n",
    "for elem in X_test:\n",
    "    y_pred.append(clf.predict([elem]))\n",
    "print(r2_score(Y_test,y_pred))"
   ]
  },
  {
   "cell_type": "code",
   "execution_count": null,
   "metadata": {},
   "outputs": [],
   "source": []
  },
  {
   "cell_type": "code",
   "execution_count": null,
   "metadata": {},
   "outputs": [],
   "source": []
  },
  {
   "cell_type": "code",
   "execution_count": null,
   "metadata": {},
   "outputs": [],
   "source": []
  },
  {
   "cell_type": "code",
   "execution_count": null,
   "metadata": {},
   "outputs": [],
   "source": []
  },
  {
   "cell_type": "code",
   "execution_count": null,
   "metadata": {},
   "outputs": [],
   "source": []
  }
 ],
 "metadata": {
  "kernelspec": {
   "display_name": "Python 3",
   "language": "python",
   "name": "python3"
  },
  "language_info": {
   "codemirror_mode": {
    "name": "ipython",
    "version": 3
   },
   "file_extension": ".py",
   "mimetype": "text/x-python",
   "name": "python",
   "nbconvert_exporter": "python",
   "pygments_lexer": "ipython3",
   "version": "3.7.4"
  }
 },
 "nbformat": 4,
 "nbformat_minor": 2
}
